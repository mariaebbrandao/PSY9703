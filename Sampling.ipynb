{
 "cells": [
  {
   "cell_type": "markdown",
   "metadata": {},
   "source": [
    "# Homework\n",
    "\n",
    "- Using the Excel data file on blackboard\n",
    "- Select two characteristics of those available in the file to use as strata\n",
    "- Randomly sample 20 people in each of your strata\n",
    "- Print the first page of your Excel file and bring it to next class"
   ]
  },
  {
   "cell_type": "code",
   "execution_count": 27,
   "metadata": {},
   "outputs": [
    {
     "name": "stderr",
     "output_type": "stream",
     "text": [
      "also installing the dependency ‘data.table’\n",
      "\n"
     ]
    },
    {
     "name": "stdout",
     "output_type": "stream",
     "text": [
      "\n",
      "The downloaded binary packages are in\n",
      "\t/var/folders/6y/0_s8n7_x4r74c_v0fdskpy140000gn/T//Rtmpf4pL6U/downloaded_packages\n"
     ]
    }
   ],
   "source": [
    "install.packages(\"splitstackshape\")"
   ]
  },
  {
   "cell_type": "markdown",
   "metadata": {},
   "source": [
    "Source: https://stackoverflow.com/questions/23479512/stratified-random-sampling-from-data-frame"
   ]
  },
  {
   "cell_type": "code",
   "execution_count": 3,
   "metadata": {},
   "outputs": [
    {
     "name": "stderr",
     "output_type": "stream",
     "text": [
      "also installing the dependencies ‘rematch’, ‘hms’, ‘cellranger’, ‘progress’\n",
      "\n"
     ]
    },
    {
     "name": "stdout",
     "output_type": "stream",
     "text": [
      "\n",
      "The downloaded binary packages are in\n",
      "\t/var/folders/6y/0_s8n7_x4r74c_v0fdskpy140000gn/T//Rtmpf4pL6U/downloaded_packages\n"
     ]
    }
   ],
   "source": [
    "install.packages(\"readxl\")"
   ]
  },
  {
   "cell_type": "code",
   "execution_count": 60,
   "metadata": {},
   "outputs": [
    {
     "name": "stdout",
     "output_type": "stream",
     "text": [
      "\n",
      "The downloaded binary packages are in\n",
      "\t/var/folders/6y/0_s8n7_x4r74c_v0fdskpy140000gn/T//Rtmpf4pL6U/downloaded_packages\n"
     ]
    }
   ],
   "source": [
    "install.packages(\"writexl\")"
   ]
  },
  {
   "cell_type": "code",
   "execution_count": 61,
   "metadata": {},
   "outputs": [],
   "source": [
    "library(\"readxl\")\n",
    "library(\"splitstackshape\")\n",
    "library(\"writexl\")"
   ]
  },
  {
   "cell_type": "code",
   "execution_count": 14,
   "metadata": {},
   "outputs": [
    {
     "data": {
      "text/html": [
       "'/Users/mb/Documents/Baruch_I:O Master/PSY 9703 Design of Psychological Research/Homework/Data Homework/Code'"
      ],
      "text/latex": [
       "'/Users/mb/Documents/Baruch\\_I:O Master/PSY 9703 Design of Psychological Research/Homework/Data Homework/Code'"
      ],
      "text/markdown": [
       "'/Users/mb/Documents/Baruch_I:O Master/PSY 9703 Design of Psychological Research/Homework/Data Homework/Code'"
      ],
      "text/plain": [
       "[1] \"/Users/mb/Documents/Baruch_I:O Master/PSY 9703 Design of Psychological Research/Homework/Data Homework/Code\""
      ]
     },
     "metadata": {},
     "output_type": "display_data"
    }
   ],
   "source": [
    "getwd()"
   ]
  },
  {
   "cell_type": "markdown",
   "metadata": {},
   "source": [
    "## Read in Data"
   ]
  },
  {
   "cell_type": "code",
   "execution_count": 13,
   "metadata": {},
   "outputs": [],
   "source": [
    "# xls files\n",
    "my_data <- read_excel(\"../Input Data/Data for Sampling Exercise.xls\")"
   ]
  },
  {
   "cell_type": "code",
   "execution_count": 17,
   "metadata": {},
   "outputs": [
    {
     "data": {
      "text/html": [
       "<table>\n",
       "<thead><tr><th scope=col>ID</th><th scope=col>LEVEL</th><th scope=col>TIME_AT_LEVEL</th><th scope=col>GEOGRAPHY</th><th scope=col>YEARS_OF_SERVICE</th><th scope=col>Gender</th></tr></thead>\n",
       "<tbody>\n",
       "\t<tr><td>1                        </td><td>Analyst                  </td><td>7 - 12 months            </td><td>France                   </td><td>0 - 1 years              </td><td>Male                     </td></tr>\n",
       "\t<tr><td>2                        </td><td>Analyst                  </td><td>7 - 12 months            </td><td>France                   </td><td>0 - 1 years              </td><td>Female                   </td></tr>\n",
       "\t<tr><td>3                        </td><td>Analyst                  </td><td>13 - 24 months or 2 years</td><td>France                   </td><td>1 - 3 years              </td><td>Male                     </td></tr>\n",
       "\t<tr><td>4                        </td><td>Analyst                  </td><td>13 - 24 months or 2 years</td><td>France                   </td><td>1 - 3 years              </td><td>Male                     </td></tr>\n",
       "\t<tr><td>5                        </td><td>Analyst                  </td><td>13 - 24 months or 2 years</td><td>France                   </td><td>1 - 3 years              </td><td>Male                     </td></tr>\n",
       "\t<tr><td>6                        </td><td>Analyst                  </td><td>13 - 24 months or 2 years</td><td>France                   </td><td>1 - 3 years              </td><td>Male                     </td></tr>\n",
       "</tbody>\n",
       "</table>\n"
      ],
      "text/latex": [
       "\\begin{tabular}{r|llllll}\n",
       " ID & LEVEL & TIME\\_AT\\_LEVEL & GEOGRAPHY & YEARS\\_OF\\_SERVICE & Gender\\\\\n",
       "\\hline\n",
       "\t 1                         & Analyst                   & 7 - 12 months             & France                    & 0 - 1 years               & Male                     \\\\\n",
       "\t 2                         & Analyst                   & 7 - 12 months             & France                    & 0 - 1 years               & Female                   \\\\\n",
       "\t 3                         & Analyst                   & 13 - 24 months or 2 years & France                    & 1 - 3 years               & Male                     \\\\\n",
       "\t 4                         & Analyst                   & 13 - 24 months or 2 years & France                    & 1 - 3 years               & Male                     \\\\\n",
       "\t 5                         & Analyst                   & 13 - 24 months or 2 years & France                    & 1 - 3 years               & Male                     \\\\\n",
       "\t 6                         & Analyst                   & 13 - 24 months or 2 years & France                    & 1 - 3 years               & Male                     \\\\\n",
       "\\end{tabular}\n"
      ],
      "text/markdown": [
       "\n",
       "| ID | LEVEL | TIME_AT_LEVEL | GEOGRAPHY | YEARS_OF_SERVICE | Gender |\n",
       "|---|---|---|---|---|---|\n",
       "| 1                         | Analyst                   | 7 - 12 months             | France                    | 0 - 1 years               | Male                      |\n",
       "| 2                         | Analyst                   | 7 - 12 months             | France                    | 0 - 1 years               | Female                    |\n",
       "| 3                         | Analyst                   | 13 - 24 months or 2 years | France                    | 1 - 3 years               | Male                      |\n",
       "| 4                         | Analyst                   | 13 - 24 months or 2 years | France                    | 1 - 3 years               | Male                      |\n",
       "| 5                         | Analyst                   | 13 - 24 months or 2 years | France                    | 1 - 3 years               | Male                      |\n",
       "| 6                         | Analyst                   | 13 - 24 months or 2 years | France                    | 1 - 3 years               | Male                      |\n",
       "\n"
      ],
      "text/plain": [
       "  ID LEVEL   TIME_AT_LEVEL             GEOGRAPHY YEARS_OF_SERVICE Gender\n",
       "1 1  Analyst 7 - 12 months             France    0 - 1 years      Male  \n",
       "2 2  Analyst 7 - 12 months             France    0 - 1 years      Female\n",
       "3 3  Analyst 13 - 24 months or 2 years France    1 - 3 years      Male  \n",
       "4 4  Analyst 13 - 24 months or 2 years France    1 - 3 years      Male  \n",
       "5 5  Analyst 13 - 24 months or 2 years France    1 - 3 years      Male  \n",
       "6 6  Analyst 13 - 24 months or 2 years France    1 - 3 years      Male  "
      ]
     },
     "metadata": {},
     "output_type": "display_data"
    }
   ],
   "source": [
    "head(my_data)"
   ]
  },
  {
   "cell_type": "markdown",
   "metadata": {},
   "source": [
    "## Frequencies "
   ]
  },
  {
   "cell_type": "code",
   "execution_count": 18,
   "metadata": {},
   "outputs": [],
   "source": [
    "attach(my_data)"
   ]
  },
  {
   "cell_type": "code",
   "execution_count": 19,
   "metadata": {},
   "outputs": [
    {
     "data": {
      "text/plain": [
       "LEVEL\n",
       "         Analyst       Consultant          Manager Senior Executive \n",
       "            2432             2948             3086             1534 "
      ]
     },
     "metadata": {},
     "output_type": "display_data"
    }
   ],
   "source": [
    "mytable <- table (LEVEL)\n",
    "mytable"
   ]
  },
  {
   "cell_type": "code",
   "execution_count": 20,
   "metadata": {},
   "outputs": [
    {
     "data": {
      "text/plain": [
       "TIME_AT_LEVEL\n",
       "                    0 - 6 months        13 - 24 months or 2 years \n",
       "                             172                             3778 \n",
       "       25 - 36 months or 3 years        37 - 48 months or 4 years \n",
       "                            1873                              712 \n",
       "       49 - 60 months or 5 years        61 - 72 months or 6 years \n",
       "                             405                              561 \n",
       "                   7 - 12 months        73 - 84 months or 7 years \n",
       "                            1866                              196 \n",
       "     85 - 120 months or 10 years More than 120 months or 10 years \n",
       "                             250                              187 "
      ]
     },
     "metadata": {},
     "output_type": "display_data"
    }
   ],
   "source": [
    "mytable <- table (TIME_AT_LEVEL)\n",
    "mytable"
   ]
  },
  {
   "cell_type": "code",
   "execution_count": 21,
   "metadata": {},
   "outputs": [
    {
     "data": {
      "text/plain": [
       "GEOGRAPHY\n",
       "                  France                    India                    Japan \n",
       "                    1704                      333                      774 \n",
       "           UK or Ireland United States of America \n",
       "                    2173                     5016 "
      ]
     },
     "metadata": {},
     "output_type": "display_data"
    }
   ],
   "source": [
    "mytable <- table (GEOGRAPHY)\n",
    "mytable"
   ]
  },
  {
   "cell_type": "code",
   "execution_count": 22,
   "metadata": {},
   "outputs": [
    {
     "data": {
      "text/plain": [
       "YEARS_OF_SERVICE\n",
       "     0 - 1 years      1 - 3 years    10 - 15 years    15 - 20 years \n",
       "              71             4127              578              542 \n",
       "   20 - 25 years 25 or more years      3 - 5 years     5 - 10 years \n",
       "             160               61             1403             3058 "
      ]
     },
     "metadata": {},
     "output_type": "display_data"
    }
   ],
   "source": [
    "mytable <- table (YEARS_OF_SERVICE)\n",
    "mytable"
   ]
  },
  {
   "cell_type": "code",
   "execution_count": 23,
   "metadata": {},
   "outputs": [
    {
     "data": {
      "text/plain": [
       "Gender\n",
       "Female   Male \n",
       "  2957   7043 "
      ]
     },
     "metadata": {},
     "output_type": "display_data"
    }
   ],
   "source": [
    "mytable <- table (Gender)\n",
    "mytable"
   ]
  },
  {
   "cell_type": "code",
   "execution_count": 26,
   "metadata": {},
   "outputs": [
    {
     "data": {
      "text/plain": [
       "Gender\n",
       "Female   Male \n",
       "0.2957 0.7043 "
      ]
     },
     "metadata": {},
     "output_type": "display_data"
    }
   ],
   "source": [
    "prop.table(mytable) # cell percentages"
   ]
  },
  {
   "cell_type": "markdown",
   "metadata": {},
   "source": [
    "## Stratification"
   ]
  },
  {
   "cell_type": "markdown",
   "metadata": {},
   "source": [
    "- Geography - Sample 20 people out of each Country\n",
    "- Gender - Sample 20 out of each gender "
   ]
  },
  {
   "cell_type": "code",
   "execution_count": 36,
   "metadata": {},
   "outputs": [],
   "source": [
    "out <- stratified(my_data, c(\"Gender\"), 20)"
   ]
  },
  {
   "cell_type": "code",
   "execution_count": 51,
   "metadata": {},
   "outputs": [
    {
     "name": "stderr",
     "output_type": "stream",
     "text": [
      "The following objects are masked from out2:\n",
      "\n",
      "    Gender, GEOGRAPHY, ID, LEVEL, TIME_AT_LEVEL, YEARS_OF_SERVICE\n",
      "\n",
      "The following objects are masked from out (pos = 4):\n",
      "\n",
      "    Gender, GEOGRAPHY, ID, LEVEL, TIME_AT_LEVEL, YEARS_OF_SERVICE\n",
      "\n",
      "The following objects are masked from out (pos = 5):\n",
      "\n",
      "    Gender, GEOGRAPHY, ID, LEVEL, TIME_AT_LEVEL, YEARS_OF_SERVICE\n",
      "\n",
      "The following objects are masked from my_data:\n",
      "\n",
      "    Gender, GEOGRAPHY, ID, LEVEL, TIME_AT_LEVEL, YEARS_OF_SERVICE\n",
      "\n"
     ]
    }
   ],
   "source": [
    "attach(out)"
   ]
  },
  {
   "cell_type": "code",
   "execution_count": 53,
   "metadata": {},
   "outputs": [
    {
     "data": {
      "text/plain": [
       "Gender\n",
       "Female   Male \n",
       "    20     20 "
      ]
     },
     "metadata": {},
     "output_type": "display_data"
    }
   ],
   "source": [
    "table(Gender)"
   ]
  },
  {
   "cell_type": "code",
   "execution_count": 49,
   "metadata": {},
   "outputs": [],
   "source": [
    "out2 <- stratified(my_data, c(\"GEOGRAPHY\"), 20)"
   ]
  },
  {
   "cell_type": "code",
   "execution_count": 54,
   "metadata": {},
   "outputs": [
    {
     "name": "stderr",
     "output_type": "stream",
     "text": [
      "The following objects are masked from out (pos = 3):\n",
      "\n",
      "    Gender, GEOGRAPHY, ID, LEVEL, TIME_AT_LEVEL, YEARS_OF_SERVICE\n",
      "\n",
      "The following objects are masked from out2 (pos = 4):\n",
      "\n",
      "    Gender, GEOGRAPHY, ID, LEVEL, TIME_AT_LEVEL, YEARS_OF_SERVICE\n",
      "\n",
      "The following objects are masked from out (pos = 5):\n",
      "\n",
      "    Gender, GEOGRAPHY, ID, LEVEL, TIME_AT_LEVEL, YEARS_OF_SERVICE\n",
      "\n",
      "The following objects are masked from out (pos = 6):\n",
      "\n",
      "    Gender, GEOGRAPHY, ID, LEVEL, TIME_AT_LEVEL, YEARS_OF_SERVICE\n",
      "\n",
      "The following objects are masked from my_data:\n",
      "\n",
      "    Gender, GEOGRAPHY, ID, LEVEL, TIME_AT_LEVEL, YEARS_OF_SERVICE\n",
      "\n"
     ]
    }
   ],
   "source": [
    "attach(out2)"
   ]
  },
  {
   "cell_type": "code",
   "execution_count": 55,
   "metadata": {},
   "outputs": [
    {
     "data": {
      "text/plain": [
       "GEOGRAPHY\n",
       "                  France                    India                    Japan \n",
       "                      20                       20                       20 \n",
       "           UK or Ireland United States of America \n",
       "                      20                       20 "
      ]
     },
     "metadata": {},
     "output_type": "display_data"
    }
   ],
   "source": [
    "table(GEOGRAPHY)"
   ]
  },
  {
   "cell_type": "markdown",
   "metadata": {},
   "source": [
    "## Export Data"
   ]
  },
  {
   "cell_type": "code",
   "execution_count": 62,
   "metadata": {},
   "outputs": [],
   "source": [
    "write_xlsx(out, \"../Output Data/stratified by gender.xls\")"
   ]
  },
  {
   "cell_type": "code",
   "execution_count": 63,
   "metadata": {},
   "outputs": [],
   "source": [
    "write_xlsx(out2, \"../Output Data/stratified by geography.xls\")"
   ]
  }
 ],
 "metadata": {
  "kernelspec": {
   "display_name": "R",
   "language": "R",
   "name": "ir"
  },
  "language_info": {
   "codemirror_mode": "r",
   "file_extension": ".r",
   "mimetype": "text/x-r-source",
   "name": "R",
   "pygments_lexer": "r",
   "version": "3.5.2"
  }
 },
 "nbformat": 4,
 "nbformat_minor": 2
}
